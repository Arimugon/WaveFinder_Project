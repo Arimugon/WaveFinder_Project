{
 "cells": [
  {
   "cell_type": "code",
   "execution_count": 165,
   "id": "0c8f90d7",
   "metadata": {},
   "outputs": [],
   "source": [
    "import pandas as pd\n",
    "import requests as req\n",
    "from bs4 import BeautifulSoup as bs\n",
    "import re\n",
    "import json\n",
    "import numpy as np\n",
    "import warnings\n",
    "warnings.filterwarnings('ignore')\n",
    "import csv\n",
    "pd.set_option('display.max_rows', None) \n",
    "pd.set_option('display.max_columns', None) \n",
    "from selenium import webdriver\n",
    "import time"
   ]
  },
  {
   "cell_type": "code",
   "execution_count": 166,
   "id": "23ab0531",
   "metadata": {},
   "outputs": [
    {
     "name": "stdout",
     "output_type": "stream",
     "text": [
      "Requirement already satisfied: webdriver-manager in c:\\users\\ari\\anaconda3\\lib\\site-packages (3.8.4)Note: you may need to restart the kernel to use updated packages.\n",
      "\n",
      "Requirement already satisfied: tqdm in c:\\users\\ari\\anaconda3\\lib\\site-packages (from webdriver-manager) (4.64.0)\n",
      "Requirement already satisfied: python-dotenv in c:\\users\\ari\\anaconda3\\lib\\site-packages (from webdriver-manager) (0.21.0)\n",
      "Requirement already satisfied: requests in c:\\users\\ari\\anaconda3\\lib\\site-packages (from webdriver-manager) (2.27.1)\n",
      "Requirement already satisfied: certifi>=2017.4.17 in c:\\users\\ari\\anaconda3\\lib\\site-packages (from requests->webdriver-manager) (2021.10.8)\n",
      "Requirement already satisfied: charset-normalizer~=2.0.0 in c:\\users\\ari\\anaconda3\\lib\\site-packages (from requests->webdriver-manager) (2.0.4)\n",
      "Requirement already satisfied: idna<4,>=2.5 in c:\\users\\ari\\anaconda3\\lib\\site-packages (from requests->webdriver-manager) (3.3)\n",
      "Requirement already satisfied: urllib3<1.27,>=1.21.1 in c:\\users\\ari\\anaconda3\\lib\\site-packages (from requests->webdriver-manager) (1.26.9)\n",
      "Requirement already satisfied: colorama in c:\\users\\ari\\anaconda3\\lib\\site-packages (from tqdm->webdriver-manager) (0.4.4)\n"
     ]
    }
   ],
   "source": [
    "%pip install webdriver-manager\n",
    "from selenium import webdriver\n",
    "from selenium.webdriver.common.by import By\n",
    "from webdriver_manager.chrome import ChromeDriverManager"
   ]
  },
  {
   "cell_type": "code",
   "execution_count": 185,
   "id": "6e55ce1d",
   "metadata": {},
   "outputs": [],
   "source": [
    "PATH=ChromeDriverManager().install()   \n",
    "\n",
    "driver=webdriver.Chrome(PATH) "
   ]
  },
  {
   "cell_type": "code",
   "execution_count": 186,
   "id": "020b0ac8",
   "metadata": {},
   "outputs": [],
   "source": [
    "url = 'https://www.windguru.cz/48686'\n",
    "driver=webdriver.Chrome(PATH)\n",
    "driver.get(url)"
   ]
  },
  {
   "cell_type": "code",
   "execution_count": 201,
   "id": "a07d4f34",
   "metadata": {},
   "outputs": [],
   "source": [
    "date=driver.find_element(By.XPATH, '//*[@id=\"tabid_0_0_dates\"]').text.split()"
   ]
  },
  {
   "cell_type": "code",
   "execution_count": 220,
   "id": "840a8c3e",
   "metadata": {},
   "outputs": [],
   "source": [
    "lst=[]\n",
    "for e in range(0,len(date),3):\n",
    "    var=''.join(date[e-2:e])\n",
    "    lst.append(var)\n",
    "\n",
    "    "
   ]
  },
  {
   "cell_type": "code",
   "execution_count": 221,
   "id": "6d1fea38",
   "metadata": {},
   "outputs": [
    {
     "data": {
      "text/plain": [
       "['',\n",
       " '7.13h',\n",
       " '7.15h',\n",
       " '7.17h',\n",
       " '7.19h',\n",
       " '7.21h',\n",
       " '8.03h',\n",
       " '8.05h',\n",
       " '8.07h',\n",
       " '8.09h',\n",
       " '8.11h',\n",
       " '8.13h',\n",
       " '8.15h',\n",
       " '8.17h',\n",
       " '8.19h',\n",
       " '8.21h',\n",
       " '9.03h',\n",
       " '9.05h',\n",
       " '9.07h',\n",
       " '9.09h',\n",
       " '9.11h',\n",
       " '9.13h',\n",
       " '9.15h',\n",
       " '9.17h',\n",
       " '9.19h',\n",
       " '9.21h',\n",
       " '10.03h',\n",
       " '10.05h',\n",
       " '10.07h',\n",
       " '10.09h',\n",
       " '10.11h',\n",
       " '10.13h',\n",
       " '10.15h',\n",
       " '10.17h',\n",
       " '10.19h',\n",
       " '10.22h',\n",
       " '11.04h',\n",
       " '11.06h',\n",
       " '11.08h',\n",
       " '11.10h',\n",
       " '11.12h',\n",
       " '11.14h',\n",
       " '11.16h',\n",
       " '11.18h',\n",
       " '11.20h',\n",
       " '11.22h',\n",
       " '12.04h',\n",
       " '12.06h',\n",
       " '12.08h',\n",
       " '12.10h',\n",
       " '12.12h',\n",
       " '12.14h',\n",
       " '12.16h',\n",
       " '12.18h',\n",
       " '12.20h',\n",
       " '12.22h',\n",
       " '13.04h',\n",
       " '13.07h',\n",
       " '13.10h',\n",
       " '13.13h',\n",
       " '13.16h',\n",
       " '13.19h',\n",
       " '13.22h',\n",
       " '14.04h',\n",
       " '14.07h',\n",
       " '14.10h',\n",
       " '14.13h',\n",
       " '14.16h',\n",
       " '14.19h',\n",
       " '14.22h',\n",
       " '15.04h',\n",
       " '15.07h',\n",
       " '15.10h',\n",
       " '15.13h',\n",
       " '15.16h',\n",
       " '15.19h',\n",
       " '15.22h',\n",
       " '16.04h',\n",
       " '16.07h',\n",
       " '16.10h',\n",
       " '16.13h',\n",
       " '16.16h',\n",
       " '16.19h',\n",
       " '16.22h',\n",
       " '17.04h']"
      ]
     },
     "execution_count": 221,
     "metadata": {},
     "output_type": "execute_result"
    }
   ],
   "source": [
    "lst"
   ]
  },
  {
   "cell_type": "code",
   "execution_count": 213,
   "id": "2c102647",
   "metadata": {},
   "outputs": [],
   "source": []
  },
  {
   "cell_type": "code",
   "execution_count": null,
   "id": "992d44b0",
   "metadata": {},
   "outputs": [],
   "source": []
  },
  {
   "cell_type": "code",
   "execution_count": null,
   "id": "a774069e",
   "metadata": {},
   "outputs": [],
   "source": [
    "def lasuperfuncion(url):\n",
    "    driver=webdriver.Chrome(PATH)\n",
    "    driver.get(url)\n",
    "    time.sleep(2)\n",
    "    tabla=driver.find_element(By.XPATH,'//*[@id=\"tabid_0_content_div\"]/table/tbody')\n",
    "    \n",
    "    \n",
    "    \n",
    "    "
   ]
  },
  {
   "cell_type": "code",
   "execution_count": 190,
   "id": "255ed78b",
   "metadata": {},
   "outputs": [],
   "source": [
    "velocidad=driver.find_element(By.XPATH, '//*[@id=\"tabid_0_0_WINDSPD\"]').text.split()\n",
    "rafagas=driver.find_element(By.XPATH, '//*[@id=\"tabid_0_0_GUST\"]').text.split()\n",
    "ola=driver.find_element(By.XPATH, '//*[@id=\"tabid_0_0_HTSGW\"]').text.split()\n",
    "temp=driver.find_element(By.XPATH, '//*[@id=\"tabid_0_0_TMP\"]').text.split()\n"
   ]
  },
  {
   "cell_type": "code",
   "execution_count": 169,
   "id": "4a134d68",
   "metadata": {},
   "outputs": [],
   "source": [
    "def direc_viento(url):\n",
    "    driver=webdriver.Chrome(PATH)\n",
    "    driver.get(url)\n",
    "    time.sleep(2)\n",
    "    tabla=driver.find_element(By.XPATH,'//*[@id=\"tabid_0_content_div\"]/table/tbody')\n",
    "    filas=tabla.find_elements(By.XPATH, '//*[@id=\"tabid_0_0_SMER\"]')\n",
    "    data=[]\n",
    "    for f in filas:\n",
    "        elementos=f.find_elements(By.TAG_NAME, 'span')\n",
    "        tmp=[]\n",
    "        for e in elementos:\n",
    "            tmp.append(e.get_attribute('title'))\n",
    "        tmp.append(url.split('/')[-1])  # nombre del equipo\n",
    "        data.append(tmp)\n",
    "    return data"
   ]
  },
  {
   "cell_type": "code",
   "execution_count": 171,
   "id": "46b1eef4",
   "metadata": {},
   "outputs": [],
   "source": [
    "direc_viento=direc_viento('https://www.windguru.cz/48686')"
   ]
  },
  {
   "cell_type": "code",
   "execution_count": 176,
   "id": "d19783c8",
   "metadata": {},
   "outputs": [
    {
     "data": {
      "text/plain": [
       "[['NO (308.43175822998126°)',\n",
       "  'NNO (341.6306116640148°)',\n",
       "  'N (7.8890032563909145°)',\n",
       "  'ENE (67.99299442791393°)',\n",
       "  'ESE (101.40906229351168°)',\n",
       "  'ESE (113.45562899023292°)',\n",
       "  'SE (142.194797805172°)',\n",
       "  'ESE (118.59917829150777°)',\n",
       "  'E (97.3441872607541°)',\n",
       "  'ENE (76.67815983519073°)',\n",
       "  'E (94.72132209091447°)',\n",
       "  'E (83.24922364762982°)',\n",
       "  'E (79.15135604779799°)',\n",
       "  'E (81.97783808253615°)',\n",
       "  'SE (138.0965546455234°)',\n",
       "  'OSO (252.12920946748807°)',\n",
       "  'ONO (292.6581192841034°)',\n",
       "  'O (279.6794341955285°)',\n",
       "  'N (353.91936017530486°)',\n",
       "  'NE (53.083554872011014°)',\n",
       "  'ENE (62.177413537614605°)',\n",
       "  'NE (49.09802711554276°)',\n",
       "  'ENE (61.73876489736112°)',\n",
       "  'ENE (70.24963181185657°)',\n",
       "  'ENE (56.695393187792696°)',\n",
       "  'NNO (347.5860211342737°)',\n",
       "  'N (349.5995025809368°)',\n",
       "  'NNE (12.048497112799188°)',\n",
       "  'NNE (24.137294291969894°)',\n",
       "  'NNE (15.941133858845625°)',\n",
       "  'N (1.629787509736395°)',\n",
       "  'NNO (347.6863346770232°)',\n",
       "  'N (351.4043168945615°)',\n",
       "  'NNO (341.22667106675186°)',\n",
       "  'SSE (147.23567706397571°)',\n",
       "  'O (271.06876784962503°)',\n",
       "  'OSO (248.57413651194685°)',\n",
       "  'SSO (213.2092220811323°)',\n",
       "  'S (169.7523481737318°)',\n",
       "  'S (182.1428012848452°)',\n",
       "  'E (83.55799829628903°)',\n",
       "  'ENE (76.02268034094739°)',\n",
       "  'E (87.11427181400967°)',\n",
       "  'ESE (104.88868037606065°)',\n",
       "  'ESE (121.21850406496405°)',\n",
       "  'SE (144.91866548283596°)',\n",
       "  'S (178.7530357515467°)',\n",
       "  'SSO (192.01744687266046°)',\n",
       "  'SSO (197.65601876171948°)',\n",
       "  'OSO (251.68216778039096°)',\n",
       "  'ENE (60.38316529519087°)',\n",
       "  'E (97.23484641674482°)',\n",
       "  'ESE (106.5391446217237°)',\n",
       "  'E (99.82759387377803°)',\n",
       "  'E (99.29959968857244°)',\n",
       "  'SE (129.93090644905803°)',\n",
       "  'SE (131.7292313358356°)',\n",
       "  'SE (127.06722197294502°)',\n",
       "  'SSE (153.61819384404373°)',\n",
       "  'SE (132.23965715144328°)',\n",
       "  'SSE (167.47222603619622°)',\n",
       "  'SSE (163.7609295078133°)',\n",
       "  'S (189.72969184270656°)',\n",
       "  'S (181.31665289051884°)',\n",
       "  'S (175.7582030062634°)',\n",
       "  'SE (138.13433907597465°)',\n",
       "  'SE (145.11198119306468°)',\n",
       "  'SE (135.26756548295953°)',\n",
       "  'ENE (67.82002829012742°)',\n",
       "  'SO (219.00949068560223°)',\n",
       "  'S (183.4576379417946°)',\n",
       "  'S (178.49693442619153°)',\n",
       "  'SSE (167.44366463422816°)',\n",
       "  'S (184.0107718567996°)',\n",
       "  'ESE (107.41573930480547°)',\n",
       "  'SE (132.532826371424°)',\n",
       "  'OSO (242.761196399988°)',\n",
       "  'SSO (213.3894458937299°)',\n",
       "  'SSE (160.09994642092005°)',\n",
       "  'S (170.9501629582877°)',\n",
       "  'SSE (166.754809720823°)',\n",
       "  'O (259.8217171539087°)',\n",
       "  'ONO (299.94795940263435°)',\n",
       "  'S (179°)',\n",
       "  'SO (217°)',\n",
       "  '48686']]"
      ]
     },
     "execution_count": 176,
     "metadata": {},
     "output_type": "execute_result"
    }
   ],
   "source": [
    "direc_viento"
   ]
  },
  {
   "cell_type": "code",
   "execution_count": 177,
   "id": "57f6c232",
   "metadata": {},
   "outputs": [],
   "source": [
    "def direc_ola(url):\n",
    "    driver=webdriver.Chrome(PATH)\n",
    "    driver.get(url)\n",
    "    time.sleep(2)\n",
    "    tabla=driver.find_element(By.XPATH,'//*[@id=\"tabid_0_content_div\"]/table/tbody')\n",
    "    filas=tabla.find_elements(By.XPATH, '//*[@id=\"tabid_0_0_DIRPW\"]')\n",
    "    data=[]\n",
    "    for f in filas:\n",
    "        elementos=f.find_elements(By.TAG_NAME, 'span')\n",
    "        tmp=[]\n",
    "        for e in elementos:\n",
    "            tmp.append(e.get_attribute('title'))\n",
    "        tmp.append(url.split('/')[-1])  # nombre del equipo\n",
    "        data.append(tmp)\n",
    "    return data"
   ]
  },
  {
   "cell_type": "code",
   "execution_count": 178,
   "id": "caede82e",
   "metadata": {},
   "outputs": [],
   "source": [
    "direc_ola=direc_ola('https://www.windguru.cz/48686')"
   ]
  },
  {
   "cell_type": "code",
   "execution_count": 179,
   "id": "75aa5f1c",
   "metadata": {},
   "outputs": [
    {
     "data": {
      "text/plain": [
       "[['NO (309°)',\n",
       "  'N (359°)',\n",
       "  'N (1°)',\n",
       "  'N (2°)',\n",
       "  'N (3°)',\n",
       "  'N (2°)',\n",
       "  'N (3°)',\n",
       "  'N (3°)',\n",
       "  'N (2°)',\n",
       "  'N (2°)',\n",
       "  'N (3°)',\n",
       "  'N (6°)',\n",
       "  'N (8°)',\n",
       "  'N (9°)',\n",
       "  'N (8°)',\n",
       "  'N (6°)',\n",
       "  'N (6°)',\n",
       "  'N (3°)',\n",
       "  'N (2°)',\n",
       "  'N (1°)',\n",
       "  'N (359°)',\n",
       "  'N (356°)',\n",
       "  'N (355°)',\n",
       "  'N (355°)',\n",
       "  'N (356°)',\n",
       "  'N (354°)',\n",
       "  'N (352°)',\n",
       "  'N (351°)',\n",
       "  'N (350°)',\n",
       "  'N (350°)',\n",
       "  'N (350°)',\n",
       "  'NNO (348.66666666666663°)',\n",
       "  'NNO (348.3333333333333°)',\n",
       "  'N (349°)',\n",
       "  'N (349°)',\n",
       "  'NO (322°)',\n",
       "  'NO (322.66666666666663°)',\n",
       "  'NO (323.3333333333333°)',\n",
       "  'NO (324°)',\n",
       "  'NO (324.66666666666663°)',\n",
       "  'NO (324.66666666666663°)',\n",
       "  'NO (324°)',\n",
       "  'NO (322.66666666666663°)',\n",
       "  'NO (322°)',\n",
       "  'NO (322°)',\n",
       "  'NO (324°)',\n",
       "  'ONO (298°)',\n",
       "  'ONO (285°)',\n",
       "  'ONO (285°)',\n",
       "  'ONO (283.66666666666663°)',\n",
       "  'ONO (283.3333333333333°)',\n",
       "  'ONO (284°)',\n",
       "  'ONO (282.66666666666663°)',\n",
       "  'ONO (282.3333333333333°)',\n",
       "  'ONO (283°)',\n",
       "  'O (281°)',\n",
       "  'O (281°)',\n",
       "  'ONO (282°)',\n",
       "  'O (280°)',\n",
       "  'O (281°)',\n",
       "  'O (281°)',\n",
       "  'O (281°)',\n",
       "  'O (281°)',\n",
       "  'ONO (282°)',\n",
       "  'ONO (285°)',\n",
       "  'ONO (285°)',\n",
       "  'ONO (285°)',\n",
       "  'ONO (286°)',\n",
       "  'ONO (286°)',\n",
       "  'ONO (286°)',\n",
       "  'ONO (286°)',\n",
       "  'ONO (288°)',\n",
       "  'ONO (286°)',\n",
       "  'ONO (286°)',\n",
       "  'ONO (286°)',\n",
       "  'ONO (286°)',\n",
       "  'ONO (284°)',\n",
       "  'ONO (284°)',\n",
       "  'ONO (283°)',\n",
       "  'ONO (283°)',\n",
       "  'ONO (282°)',\n",
       "  'ONO (282°)',\n",
       "  'ONO (282°)',\n",
       "  'ONO (282°)',\n",
       "  'ONO (282°)',\n",
       "  '48686']]"
      ]
     },
     "execution_count": 179,
     "metadata": {},
     "output_type": "execute_result"
    }
   ],
   "source": [
    "direc_ola"
   ]
  },
  {
   "cell_type": "code",
   "execution_count": 159,
   "id": "475c2553",
   "metadata": {},
   "outputs": [
    {
     "data": {
      "text/plain": [
       "\"'for i in direc_viento:\\n    filas=i.find_elements(By.TAG_NAME, 'td')\\n    \\n    print(filas)\\n    span=[]\\n    for e in filas:\\n        span.append(e.find_element(By.CLASS_NAME, 'title'))\""
      ]
     },
     "execution_count": 159,
     "metadata": {},
     "output_type": "execute_result"
    }
   ],
   "source": [
    "''''for i in direc_viento:\n",
    "    filas=i.find_elements(By.TAG_NAME, 'td')\n",
    "    \n",
    "    print(filas)\n",
    "    span=[]\n",
    "    for e in filas:\n",
    "        span.append(e.find_element(By.CLASS_NAME, 'title'))'''\n",
    "    "
   ]
  },
  {
   "cell_type": "code",
   "execution_count": null,
   "id": "a6736f06",
   "metadata": {},
   "outputs": [],
   "source": []
  },
  {
   "cell_type": "code",
   "execution_count": 97,
   "id": "2ac48fa4",
   "metadata": {},
   "outputs": [],
   "source": []
  },
  {
   "cell_type": "code",
   "execution_count": 99,
   "id": "b29c616d",
   "metadata": {},
   "outputs": [],
   "source": []
  },
  {
   "cell_type": "code",
   "execution_count": null,
   "id": "ca0085c2",
   "metadata": {},
   "outputs": [],
   "source": []
  }
 ],
 "metadata": {
  "kernelspec": {
   "display_name": "Python 3 (ipykernel)",
   "language": "python",
   "name": "python3"
  },
  "language_info": {
   "codemirror_mode": {
    "name": "ipython",
    "version": 3
   },
   "file_extension": ".py",
   "mimetype": "text/x-python",
   "name": "python",
   "nbconvert_exporter": "python",
   "pygments_lexer": "ipython3",
   "version": "3.9.12"
  }
 },
 "nbformat": 4,
 "nbformat_minor": 5
}
