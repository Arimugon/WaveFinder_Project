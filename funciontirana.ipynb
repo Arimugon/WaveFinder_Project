{
 "cells": [
  {
   "cell_type": "code",
   "execution_count": 3,
   "id": "f72eba76",
   "metadata": {},
   "outputs": [
    {
     "name": "stdout",
     "output_type": "stream",
     "text": [
      "Requirement already satisfied: webdriver-manager in c:\\users\\ari\\anaconda3\\lib\\site-packages (3.8.4)\n",
      "Requirement already satisfied: tqdm in c:\\users\\ari\\anaconda3\\lib\\site-packages (from webdriver-manager) (4.64.0)\n",
      "Requirement already satisfied: python-dotenv in c:\\users\\ari\\anaconda3\\lib\\site-packages (from webdriver-manager) (0.21.0)\n",
      "Requirement already satisfied: requests in c:\\users\\ari\\anaconda3\\lib\\site-packages (from webdriver-manager) (2.27.1)\n",
      "Requirement already satisfied: urllib3<1.27,>=1.21.1 in c:\\users\\ari\\anaconda3\\lib\\site-packages (from requests->webdriver-manager) (1.26.9)\n",
      "Requirement already satisfied: charset-normalizer~=2.0.0 in c:\\users\\ari\\anaconda3\\lib\\site-packages (from requests->webdriver-manager) (2.0.4)\n",
      "Requirement already satisfied: idna<4,>=2.5 in c:\\users\\ari\\anaconda3\\lib\\site-packages (from requests->webdriver-manager) (3.3)\n",
      "Requirement already satisfied: certifi>=2017.4.17 in c:\\users\\ari\\anaconda3\\lib\\site-packages (from requests->webdriver-manager) (2021.10.8)\n",
      "Requirement already satisfied: colorama in c:\\users\\ari\\anaconda3\\lib\\site-packages (from tqdm->webdriver-manager) (0.4.4)\n",
      "Note: you may need to restart the kernel to use updated packages.\n"
     ]
    }
   ],
   "source": [
    "import pandas as pd\n",
    "import requests as req\n",
    "from bs4 import BeautifulSoup as bs\n",
    "import re\n",
    "import json\n",
    "import numpy as np\n",
    "import warnings\n",
    "warnings.filterwarnings('ignore')\n",
    "import csv\n",
    "pd.set_option('display.max_rows', None) \n",
    "pd.set_option('display.max_columns', None) \n",
    "from selenium import webdriver\n",
    "import time\n",
    "%pip install webdriver-manager\n",
    "from selenium import webdriver\n",
    "from selenium.webdriver.common.by import By\n",
    "from webdriver_manager.chrome import ChromeDriverManager"
   ]
  },
  {
   "cell_type": "code",
   "execution_count": 4,
   "id": "1aa84684",
   "metadata": {},
   "outputs": [],
   "source": [
    "def tirania(url):\n",
    "    \n",
    "    PATH=ChromeDriverManager().install()\n",
    "    driver=webdriver.Chrome(PATH) \n",
    "    driver.get(url)\n",
    "    time.sleep(5)\n",
    "    \n",
    "    \n",
    "    df=pd.DataFrame(columns=['Beach','Location','Date','Hour','Wind_speed','Gust','Wave','Temperature','Wind_direction','Wave_direction'])\n",
    "    \n",
    "    date=driver.find_element(By.XPATH, '//*[@id=\"tabid_0_0_dates\"]').text.split()\n",
    "    lst=[]\n",
    "    for e in range(0,len(date)+3,3):\n",
    "        var=''.join(date[e-2]).replace('.','')\n",
    "        lst.append(var)\n",
    "            \n",
    "    lst.pop(0)  \n",
    "    \n",
    "    for e in range(len(lst)):\n",
    "        df['Date']=lst\n",
    "        \n",
    "    loca=driver.find_element(By.XPATH, '//*[@id=\"forecasts-page-content\"]/div[2]/div[2]/ul/li[4]/a').text#[:-8]\n",
    "        \n",
    "    hour=driver.find_element(By.XPATH, '//*[@id=\"tabid_0_0_dates\"]').text.split()\n",
    "    lst2=[]\n",
    "    for e in range(0,len(date)+3,3):\n",
    "        var=''.join(date[e-1:e])\n",
    "        lst2.append(var)\n",
    "    lst2.pop(0)    \n",
    "    for e in range(len(lst2)):\n",
    "        df['Hour']=lst2\n",
    "        \n",
    "    playa=driver.find_element(By.XPATH, '//*[@id=\"forecasts-page-content\"]/div[2]/div[1]/a[1]/div').text.split()[2]\n",
    "    \n",
    "    for e in range(len(playa)):\n",
    "        df['Beach']=playa\n",
    "        \n",
    "   \n",
    "    velocidad=driver.find_element(By.XPATH, '//*[@id=\"tabid_0_0_WINDSPD\"]').text.split()\n",
    "    \n",
    "    for e in range(len(velocidad)):\n",
    "        df['Wind_speed']=velocidad\n",
    "        \n",
    "    rafagas=driver.find_element(By.XPATH, '//*[@id=\"tabid_0_0_GUST\"]').text.split()\n",
    "    \n",
    "    for e in range(len(rafagas)):\n",
    "        df['Gust']=rafagas\n",
    "        \n",
    "    ola=driver.find_element(By.XPATH, '//*[@id=\"tabid_0_0_HTSGW\"]').text.split()\n",
    "    \n",
    "    for e in range(len(ola)):\n",
    "        df['Wave']=ola\n",
    "    \n",
    "    temp=driver.find_element(By.XPATH, '//*[@id=\"tabid_0_0_TMP\"]').text.split()\n",
    "    \n",
    "    for e in range(len(temp)):\n",
    "        df['Temperature']=temp\n",
    "    \n",
    "    direc_viento=driver.find_elements(By.XPATH, '//*[@id=\"tabid_0_0_SMER\"]')\n",
    "   \n",
    "    for f in direc_viento:\n",
    "        elementos=f.find_elements(By.TAG_NAME, 'span')\n",
    "        tmp=[]\n",
    "        for e in elementos:\n",
    "            tmp.append(e.get_attribute('title'))\n",
    "        tmp.append(url.split('/')[-1])\n",
    "       \n",
    "        \n",
    "    tmp.pop()\n",
    "    df['Wind_direction']=tmp\n",
    "    \n",
    "    direc_ola=driver.find_elements(By.XPATH, '//*[@id=\"tabid_0_0_DIRPW\"]')\n",
    "    for f in direc_ola:\n",
    "        elementos=f.find_elements(By.TAG_NAME, 'span')\n",
    "        tmp2=[]\n",
    "        for e in elementos:\n",
    "            tmp2.append(e.get_attribute('title'))\n",
    "        tmp2.append(url.split('/')[-1])\n",
    "    tmp2.pop()   \n",
    "    df['Wave_direction']=tmp2\n",
    "    \n",
    "    \n",
    "  \n",
    "    #for e in range(len(loca)):\n",
    "    df['Location']=loca\n",
    "        \n",
    "    \n",
    "  \n",
    "\n",
    "\n",
    "    return loca\n"
   ]
  },
  {
   "cell_type": "code",
   "execution_count": 5,
   "id": "7a6c6a44",
   "metadata": {},
   "outputs": [
    {
     "data": {
      "text/plain": [
       "''"
      ]
     },
     "execution_count": 5,
     "metadata": {},
     "output_type": "execute_result"
    }
   ],
   "source": [
    "tirania('https://www.windguru.cz/48686')"
   ]
  },
  {
   "cell_type": "code",
   "execution_count": null,
   "id": "09eb577d",
   "metadata": {},
   "outputs": [],
   "source": []
  },
  {
   "cell_type": "code",
   "execution_count": null,
   "id": "9c3f4242",
   "metadata": {},
   "outputs": [],
   "source": []
  }
 ],
 "metadata": {
  "kernelspec": {
   "display_name": "Python 3 (ipykernel)",
   "language": "python",
   "name": "python3"
  },
  "language_info": {
   "codemirror_mode": {
    "name": "ipython",
    "version": 3
   },
   "file_extension": ".py",
   "mimetype": "text/x-python",
   "name": "python",
   "nbconvert_exporter": "python",
   "pygments_lexer": "ipython3",
   "version": "3.9.12"
  }
 },
 "nbformat": 4,
 "nbformat_minor": 5
}
